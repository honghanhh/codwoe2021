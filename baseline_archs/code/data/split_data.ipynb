{
 "cells": [
  {
   "cell_type": "code",
   "execution_count": 1,
   "id": "9df49af9-2acd-49c3-8362-e670d697cfba",
   "metadata": {},
   "outputs": [],
   "source": [
    "import pandas as pd\n",
    "import json\n",
    "import warnings\n",
    "warnings.filterwarnings('ignore')"
   ]
  },
  {
   "cell_type": "code",
   "execution_count": 2,
   "id": "01b14f1c-8284-48ea-be50-bd586ec3b9e3",
   "metadata": {},
   "outputs": [],
   "source": [
    "def split_data(df_path, output1, output2):\n",
    "    df = pd.read_json(df_path)\n",
    "    df['word_len'] = [len(x.split()) for x in df['gloss']]\n",
    "    df1 = df[df.word_len > 5]\n",
    "    df2 = df[df.word_len <= 5]\n",
    "    with open(output1, 'w') as f:\n",
    "        json.dump(list(df1[['id','sgns']].to_dict('id').values()), f, ensure_ascii=False)\n",
    "    with open(output2, 'w') as f:\n",
    "        json.dump(list(df2[['id','sgns']].to_dict('id').values()), f, ensure_ascii=False)"
   ]
  },
  {
   "cell_type": "code",
   "execution_count": 3,
   "id": "8fd28a37-7d20-4920-bd99-ecb5674b8ddf",
   "metadata": {},
   "outputs": [],
   "source": [
    "split_data('train-data_all/en.dev.json', 'train-data_all/en1.dev.json', 'train-data_all/en2.dev.json')"
   ]
  }
 ],
 "metadata": {
  "kernelspec": {
   "display_name": "Python 3",
   "language": "python",
   "name": "python3"
  },
  "language_info": {
   "codemirror_mode": {
    "name": "ipython",
    "version": 3
   },
   "file_extension": ".py",
   "mimetype": "text/x-python",
   "name": "python",
   "nbconvert_exporter": "python",
   "pygments_lexer": "ipython3",
   "version": "3.8.11"
  }
 },
 "nbformat": 4,
 "nbformat_minor": 5
}

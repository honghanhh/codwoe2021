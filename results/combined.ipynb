{
 "cells": [
  {
   "cell_type": "code",
   "execution_count": 8,
   "id": "251f0edc-d68a-410e-a47f-3bf26b42ec08",
   "metadata": {},
   "outputs": [],
   "source": [
    "import json\n",
    "import pandas as pd\n",
    "import numpy as np"
   ]
  },
  {
   "cell_type": "code",
   "execution_count": 26,
   "id": "8c6d2daa-291c-4c93-bf49-99ae62e2a561",
   "metadata": {},
   "outputs": [],
   "source": [
    "def combined_pred(input1, input2, output):\n",
    "    df1 = pd.read_json(input1)\n",
    "    df2 = pd.read_json(input2)\n",
    "    df = df1.merge(df2, how='inner', on='id', suffixes=('_x', '_y'))\n",
    "    df['sgns'] = [np.mean(np.array([x, y]), axis=0) for x, y in zip(df['sgns_x'],df['sgns_y'])]\n",
    "    return df[['id','sgns']].to_json(output)"
   ]
  },
  {
   "cell_type": "code",
   "execution_count": 31,
   "id": "78c0e1f2-01e2-44ff-a143-24c84170f71c",
   "metadata": {},
   "outputs": [],
   "source": [
    "combined_pred('./bilstm/es_revdict_preds.json', 'lstm/es_revdict_lstm.json', 'es_combined.json')"
   ]
  },
  {
   "cell_type": "code",
   "execution_count": null,
   "id": "de7bf9e9-f5b3-4dbb-ad2f-335da8b7cfa5",
   "metadata": {},
   "outputs": [],
   "source": []
  }
 ],
 "metadata": {
  "kernelspec": {
   "display_name": "Python 3 (ipykernel)",
   "language": "python",
   "name": "python3"
  },
  "language_info": {
   "codemirror_mode": {
    "name": "ipython",
    "version": 3
   },
   "file_extension": ".py",
   "mimetype": "text/x-python",
   "name": "python",
   "nbconvert_exporter": "python",
   "pygments_lexer": "ipython3",
   "version": "3.7.11"
  }
 },
 "nbformat": 4,
 "nbformat_minor": 5
}
